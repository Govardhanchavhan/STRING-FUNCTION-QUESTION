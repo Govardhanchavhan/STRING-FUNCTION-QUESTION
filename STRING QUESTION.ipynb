{
  "nbformat": 4,
  "nbformat_minor": 0,
  "metadata": {
    "colab": {
      "provenance": []
    },
    "kernelspec": {
      "name": "python3",
      "display_name": "Python 3"
    },
    "language_info": {
      "name": "python"
    }
  },
  "cells": [
    {
      "cell_type": "markdown",
      "source": [
        "# STRINGS QUESTION\n",
        "QUE :- 1. Write a program to count the number of words in a string?"
      ],
      "metadata": {
        "id": "VhCQUU-g_C-E"
      }
    },
    {
      "cell_type": "code",
      "execution_count": null,
      "metadata": {
        "colab": {
          "base_uri": "https://localhost:8080/"
        },
        "id": "dycbByB0-6xZ",
        "outputId": "514ca0fa-a16c-4aa8-e61c-4c46f5f9c3fa"
      },
      "outputs": [
        {
          "output_type": "stream",
          "name": "stdout",
          "text": [
            "Enter a string my self arya\n",
            "Total Words: 3\n"
          ]
        }
      ],
      "source": [
        "s = input (\"Enter a string\")\n",
        "words = s. split()\n",
        "count = len(words)\n",
        "print(\"Total Words:\", count)\n"
      ]
    },
    {
      "cell_type": "markdown",
      "source": [
        "QUE :- 2. Check if a string is a palindrome?"
      ],
      "metadata": {
        "id": "cv3LFQoF_6MR"
      }
    },
    {
      "cell_type": "code",
      "source": [
        "str =input (\"Enter a string:\")\n",
        "if str == str [:: -1]:\n",
        "  print(\"String is palindrome\")\n",
        "else:\n",
        "  print(\"Stirng is not palindrome\")"
      ],
      "metadata": {
        "colab": {
          "base_uri": "https://localhost:8080/"
        },
        "id": "FkX7Bhzs_yy-",
        "outputId": "a8fd9059-58aa-4699-9094-e943ca8a6b15"
      },
      "execution_count": null,
      "outputs": [
        {
          "output_type": "stream",
          "name": "stdout",
          "text": [
            "Enter a string:madam\n",
            "String is palindrome\n"
          ]
        }
      ]
    },
    {
      "cell_type": "markdown",
      "source": [
        "*.QUE :- 3. Replace all vowles in a string with?"
      ],
      "metadata": {
        "id": "WVtsou5tB0iJ"
      }
    },
    {
      "cell_type": "code",
      "source": [
        "str = input(\"Enter a string:\")\n",
        "newstr =\"\"\n",
        "\n",
        "for i in str:\n",
        "  if i =='a'or i =='e' or i =='i' or i =='o' or i =='u' or i =='A'or i =='E' or i =='I' or i =='O' or i =='u':\n",
        "    newstr+='*'\n",
        "else:\n",
        "  newstr+=i\n",
        "\n",
        "print(newstr)"
      ],
      "metadata": {
        "id": "miawvDfSBp_7",
        "colab": {
          "base_uri": "https://localhost:8080/"
        },
        "outputId": "79d4069d-4b7d-429d-ac41-ab6417038b02"
      },
      "execution_count": 6,
      "outputs": [
        {
          "output_type": "stream",
          "name": "stdout",
          "text": [
            "Enter a string:\"Hello World\"\n",
            "***\"\n"
          ]
        }
      ]
    },
    {
      "cell_type": "markdown",
      "source": [
        "QUE :- 4. Convert a string to uppercase without using upper()?"
      ],
      "metadata": {
        "id": "s4PM_5J9O_59"
      }
    },
    {
      "cell_type": "code",
      "source": [
        "s = input (\"enter some string\")\n",
        "print (s.upper())"
      ],
      "metadata": {
        "colab": {
          "base_uri": "https://localhost:8080/"
        },
        "id": "IBPvZe3aRR1g",
        "outputId": "46f7c981-39c2-4054-af6c-44c6dc110059"
      },
      "execution_count": 8,
      "outputs": [
        {
          "output_type": "stream",
          "name": "stdout",
          "text": [
            "enter some string  silicon\n",
            "  SILICON\n"
          ]
        }
      ]
    },
    {
      "cell_type": "markdown",
      "source": [
        "QUE :- 5. Find the frequency of the each character in a string?"
      ],
      "metadata": {
        "id": "qLPaYLvyUAKx"
      }
    },
    {
      "cell_type": "code",
      "source": [
        "s = input(\"Enter a string:\")\n",
        "D= { }\n",
        "for ch in s :\n",
        "  if ch in D:\n",
        "    D[ch] +=1\n",
        "  else:\n",
        "    D[ch] = 1\n",
        "print(\"Frequency of each character is:\")\n",
        "for k in D:\n",
        "  print(\"Frequemcy of \", k, \"is \", D[k])\n"
      ],
      "metadata": {
        "colab": {
          "base_uri": "https://localhost:8080/"
        },
        "id": "g3qaqmebT5QA",
        "outputId": "0a424c64-b789-4931-fd5e-4c1a6450839b"
      },
      "execution_count": 10,
      "outputs": [
        {
          "output_type": "stream",
          "name": "stdout",
          "text": [
            "Enter a string:Hello World\n",
            "Frequency of each character is:\n",
            "Frequemcy of  H is  1\n",
            "Frequemcy of  e is  1\n",
            "Frequemcy of  l is  3\n",
            "Frequemcy of  o is  2\n",
            "Frequemcy of    is  1\n",
            "Frequemcy of  W is  1\n",
            "Frequemcy of  r is  1\n",
            "Frequemcy of  d is  1\n"
          ]
        }
      ]
    },
    {
      "cell_type": "markdown",
      "source": [
        "QUE :- 6. Write a program to split a string into list of words?\n"
      ],
      "metadata": {
        "id": "EJaqCqITVPel"
      }
    },
    {
      "cell_type": "code",
      "source": [
        "string = \"This is a example string\"\n",
        "list = string.split (\"  \")\n",
        "print(list)\n",
        "print(type(list))"
      ],
      "metadata": {
        "colab": {
          "base_uri": "https://localhost:8080/"
        },
        "id": "L2sMcHL7VEiE",
        "outputId": "d8a788ba-324b-47bc-fc75-f07f6be2912b"
      },
      "execution_count": 11,
      "outputs": [
        {
          "output_type": "stream",
          "name": "stdout",
          "text": [
            "['This is a example string']\n",
            "<class 'list'>\n"
          ]
        }
      ]
    },
    {
      "cell_type": "markdown",
      "source": [
        "QUE :- 7.Concatenate two string without using the + operator?"
      ],
      "metadata": {
        "id": "T5WqhMHOWdxg"
      }
    },
    {
      "cell_type": "code",
      "source": [
        "x = input(\"Enter first string: \")\n",
        "y = input(\"Enter second string: \")\n",
        "\n",
        "z = x + y\n",
        "print(\"The final string is...\")\n",
        "print(z)"
      ],
      "metadata": {
        "colab": {
          "base_uri": "https://localhost:8080/"
        },
        "id": "WxTJrVjfWPH7",
        "outputId": "0f83c6b7-9161-481e-dbd4-cc5683f879a4"
      },
      "execution_count": 13,
      "outputs": [
        {
          "output_type": "stream",
          "name": "stdout",
          "text": [
            "Enter first string:  arya \n",
            "Enter second string: patankar\n",
            "The final string is...\n",
            " arya patankar\n"
          ]
        }
      ]
    },
    {
      "cell_type": "markdown",
      "source": [
        "QUE :- 8. Create a program to remove all spaces from a string?"
      ],
      "metadata": {
        "id": "-Uv7D1ggahTu"
      }
    },
    {
      "cell_type": "code",
      "source": [
        "def remove_spaces(str1):\n",
        "  str1  = str1.replace(' ','')\n",
        "  return str1\n",
        "\n",
        "print(remove_spaces(\"T 3 s o o\"))\n",
        "print(remove_spaces(\"a b c\"))"
      ],
      "metadata": {
        "colab": {
          "base_uri": "https://localhost:8080/"
        },
        "id": "wSLvsE7YaZim",
        "outputId": "71892ad0-5203-460f-aed1-4476c09d5b06"
      },
      "execution_count": 21,
      "outputs": [
        {
          "output_type": "stream",
          "name": "stdout",
          "text": [
            "T3soo\n",
            "abc\n"
          ]
        }
      ]
    },
    {
      "cell_type": "markdown",
      "source": [
        "QUE :- 9. Write a program to find the longest word in a sentence?"
      ],
      "metadata": {
        "id": "1ivp-CHScOlr"
      }
    },
    {
      "cell_type": "code",
      "source": [
        "def longest_word (words):\n",
        "  return max (words, key = len)\n",
        "\n",
        "print(longest_word([\"apple\", \"banana\", \"orange\"]))\n"
      ],
      "metadata": {
        "colab": {
          "base_uri": "https://localhost:8080/"
        },
        "id": "s-J_UA3Ebym6",
        "outputId": "0d49ddf2-df54-4acb-da20-d46886189151"
      },
      "execution_count": 24,
      "outputs": [
        {
          "output_type": "stream",
          "name": "stdout",
          "text": [
            "banana\n"
          ]
        }
      ]
    },
    {
      "cell_type": "markdown",
      "source": [
        "QUE :- 10. Reverse the order of words in a sentence?\n"
      ],
      "metadata": {
        "id": "6HVcNNp5d8f1"
      }
    },
    {
      "cell_type": "code",
      "source": [
        "str =\" reverse word in string\"\n",
        "\n",
        "words = str.split(\" \")\n",
        "print(words)\n",
        "\n",
        "words = words[-1::-1]\n",
        "print(words)"
      ],
      "metadata": {
        "colab": {
          "base_uri": "https://localhost:8080/"
        },
        "id": "fzi0xDwcdn4e",
        "outputId": "a7064f8e-b9b5-47c6-af2f-4f7ae94f6d74"
      },
      "execution_count": 26,
      "outputs": [
        {
          "output_type": "stream",
          "name": "stdout",
          "text": [
            "['', 'reverse', 'word', 'in', 'string']\n",
            "['string', 'in', 'word', 'reverse', '']\n"
          ]
        }
      ]
    },
    {
      "cell_type": "code",
      "source": [],
      "metadata": {
        "id": "DR_bs2QLe7jZ"
      },
      "execution_count": null,
      "outputs": []
    }
  ]
}